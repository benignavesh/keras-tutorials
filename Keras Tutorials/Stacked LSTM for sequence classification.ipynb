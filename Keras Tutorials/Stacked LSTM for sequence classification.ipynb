{
 "cells": [
  {
   "cell_type": "code",
   "execution_count": 1,
   "metadata": {},
   "outputs": [
    {
     "name": "stderr",
     "output_type": "stream",
     "text": [
      "Using TensorFlow backend.\n"
     ]
    }
   ],
   "source": [
    "import keras\n",
    "import numpy as np"
   ]
  },
  {
   "cell_type": "code",
   "execution_count": 2,
   "metadata": {},
   "outputs": [],
   "source": [
    "from keras.models import Sequential\n",
    "from keras.layers import Dense, Dropout\n",
    "from keras.layers import Embedding\n",
    "from keras.layers import LSTM"
   ]
  },
  {
   "cell_type": "code",
   "execution_count": 3,
   "metadata": {},
   "outputs": [],
   "source": [
    "data_dim = 16\n",
    "timestep = 8\n",
    "num_classes = 10\n"
   ]
  },
  {
   "cell_type": "markdown",
   "metadata": {},
   "source": [
    "Expected input data shape: (batch_size, timesteps, data_dim)\n"
   ]
  },
  {
   "cell_type": "code",
   "execution_count": 4,
   "metadata": {},
   "outputs": [],
   "source": [
    "model = Sequential()\n",
    "model.add(LSTM(32, return_sequences=True, input_shape = (timestep, data_dim))) # returns a sequence of vectors of dimension 32\n",
    "model.add(LSTM(32, return_sequences=True))\n",
    "model.add(LSTM(32))\n",
    "model.add(Dense(10, activation = 'softmax'))"
   ]
  },
  {
   "cell_type": "code",
   "execution_count": 5,
   "metadata": {},
   "outputs": [],
   "source": [
    "model.compile(loss = 'categorical_crossentropy', optimizer = 'rmsprop', metrics = ['accuracy'])"
   ]
  },
  {
   "cell_type": "markdown",
   "metadata": {},
   "source": [
    "Generate Dummy Data: "
   ]
  },
  {
   "cell_type": "code",
   "execution_count": 6,
   "metadata": {},
   "outputs": [],
   "source": [
    "x_train = np.random.random((1000,timestep, data_dim))\n",
    "y_train = np.random.random((1000, num_classes))\n",
    "x_valid = np.random.random((100, timestep, data_dim))\n",
    "y_valid = np.random.random((100, num_classes))"
   ]
  },
  {
   "cell_type": "code",
   "execution_count": 8,
   "metadata": {},
   "outputs": [
    {
     "name": "stdout",
     "output_type": "stream",
     "text": [
      "Train on 1000 samples, validate on 100 samples\n",
      "Epoch 1/10\n",
      "1000/1000 [==============================] - 1s 1ms/step - loss: 11.5404 - acc: 0.1160 - val_loss: 11.3856 - val_acc: 0.1700\n",
      "Epoch 2/10\n",
      "1000/1000 [==============================] - 1s 949us/step - loss: 11.5397 - acc: 0.1040 - val_loss: 11.3864 - val_acc: 0.1500\n",
      "Epoch 3/10\n",
      "1000/1000 [==============================] - 1s 930us/step - loss: 11.5391 - acc: 0.1100 - val_loss: 11.3854 - val_acc: 0.1500\n",
      "Epoch 4/10\n",
      "1000/1000 [==============================] - 1s 931us/step - loss: 11.5388 - acc: 0.1230 - val_loss: 11.3864 - val_acc: 0.1500\n",
      "Epoch 5/10\n",
      "1000/1000 [==============================] - 1s 913us/step - loss: 11.5381 - acc: 0.1260 - val_loss: 11.3894 - val_acc: 0.1500\n",
      "Epoch 6/10\n",
      "1000/1000 [==============================] - 1s 928us/step - loss: 11.5367 - acc: 0.1290 - val_loss: 11.3956 - val_acc: 0.0800\n",
      "Epoch 7/10\n",
      "1000/1000 [==============================] - 1s 930us/step - loss: 11.5370 - acc: 0.1110 - val_loss: 11.3871 - val_acc: 0.1300\n",
      "Epoch 8/10\n",
      "1000/1000 [==============================] - 1s 898us/step - loss: 11.5355 - acc: 0.1250 - val_loss: 11.3909 - val_acc: 0.1400\n",
      "Epoch 9/10\n",
      "1000/1000 [==============================] - 1s 954us/step - loss: 11.5357 - acc: 0.1170 - val_loss: 11.3935 - val_acc: 0.1300\n",
      "Epoch 10/10\n",
      "1000/1000 [==============================] - 1s 951us/step - loss: 11.5355 - acc: 0.1130 - val_loss: 11.3948 - val_acc: 0.0500\n"
     ]
    },
    {
     "data": {
      "text/plain": [
       "<keras.callbacks.History at 0x2459b0d4710>"
      ]
     },
     "execution_count": 8,
     "metadata": {},
     "output_type": "execute_result"
    }
   ],
   "source": [
    "model.fit(x_train, y_train, epochs = 10, batch_size = 64, validation_data=(x_valid, y_valid))"
   ]
  },
  {
   "cell_type": "code",
   "execution_count": null,
   "metadata": {},
   "outputs": [],
   "source": []
  }
 ],
 "metadata": {
  "kernelspec": {
   "display_name": "Python 3",
   "language": "python",
   "name": "python3"
  },
  "language_info": {
   "codemirror_mode": {
    "name": "ipython",
    "version": 3
   },
   "file_extension": ".py",
   "mimetype": "text/x-python",
   "name": "python",
   "nbconvert_exporter": "python",
   "pygments_lexer": "ipython3",
   "version": "3.5.5"
  }
 },
 "nbformat": 4,
 "nbformat_minor": 2
}
