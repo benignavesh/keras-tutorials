{
 "cells": [
  {
   "cell_type": "markdown",
   "metadata": {},
   "source": [
    "A stateful recurrent model is one for which the internal states (memories) obtained after processing a batch of samples are reused as initial states for the samples of the next batch. This allows to process longer sequences while keeping computational complexity manageable.\n"
   ]
  },
  {
   "cell_type": "code",
   "execution_count": 1,
   "metadata": {},
   "outputs": [
    {
     "name": "stderr",
     "output_type": "stream",
     "text": [
      "Using TensorFlow backend.\n"
     ]
    }
   ],
   "source": [
    "import keras\n",
    "import numpy as np"
   ]
  },
  {
   "cell_type": "code",
   "execution_count": 3,
   "metadata": {},
   "outputs": [],
   "source": [
    "from keras.models import Sequential\n",
    "from keras.layers import Dense\n",
    "from keras.layers import Embedding\n",
    "from keras.layers import LSTM"
   ]
  },
  {
   "cell_type": "code",
   "execution_count": 4,
   "metadata": {},
   "outputs": [],
   "source": [
    "data_dim = 16\n",
    "num_classes = 10\n",
    "batch_size = 32\n",
    "timestep = 8"
   ]
  },
  {
   "cell_type": "code",
   "execution_count": 23,
   "metadata": {},
   "outputs": [],
   "source": [
    "model = Sequential()\n",
    "model.add(LSTM(32, stateful=True, return_sequences = True, batch_input_shape = (batch_size, timestep, data_dim)))\n",
    "model.add(LSTM(32, stateful=True, return_sequences = True))\n",
    "model.add(LSTM(32, stateful=True))\n",
    "model.add(Dense(10, activation = 'softmax'))"
   ]
  },
  {
   "cell_type": "code",
   "execution_count": 24,
   "metadata": {},
   "outputs": [],
   "source": [
    "model.compile(loss = 'categorical_crossentropy', metrics = ['accuracy'], optimizer = 'rmsprop')"
   ]
  },
  {
   "cell_type": "code",
   "execution_count": 25,
   "metadata": {},
   "outputs": [],
   "source": [
    "#Generate Dummy data\n",
    "x_train = np.random.random((batch_size*10 , timestep, data_dim))\n",
    "y_train = np.random.random((batch_size*10, num_classes))\n",
    "\n",
    "x_val = np.random.random((batch_size*3 , timestep, data_dim))\n",
    "y_val = np.random.random((batch_size*3 , num_classes))"
   ]
  },
  {
   "cell_type": "code",
   "execution_count": 26,
   "metadata": {},
   "outputs": [
    {
     "name": "stdout",
     "output_type": "stream",
     "text": [
      "Train on 320 samples, validate on 96 samples\n",
      "Epoch 1/10\n",
      "320/320 [==============================] - 4s 13ms/step - loss: 11.4052 - acc: 0.1062 - val_loss: 11.5292 - val_acc: 0.1042\n",
      "Epoch 2/10\n",
      "320/320 [==============================] - 1s 2ms/step - loss: 11.4031 - acc: 0.1000 - val_loss: 11.5261 - val_acc: 0.1042\n",
      "Epoch 3/10\n",
      "320/320 [==============================] - 1s 2ms/step - loss: 11.4005 - acc: 0.1062 - val_loss: 11.5263 - val_acc: 0.0729\n",
      "Epoch 4/10\n",
      "320/320 [==============================] - 1s 2ms/step - loss: 11.4025 - acc: 0.1031 - val_loss: 11.5265 - val_acc: 0.0938\n",
      "Epoch 5/10\n",
      "320/320 [==============================] - 1s 2ms/step - loss: 11.3998 - acc: 0.1031 - val_loss: 11.5273 - val_acc: 0.0729\n",
      "Epoch 6/10\n",
      "320/320 [==============================] - 1s 2ms/step - loss: 11.4003 - acc: 0.1094 - val_loss: 11.5275 - val_acc: 0.1250\n",
      "Epoch 7/10\n",
      "320/320 [==============================] - 1s 2ms/step - loss: 11.3992 - acc: 0.1250 - val_loss: 11.5322 - val_acc: 0.0938\n",
      "Epoch 8/10\n",
      "320/320 [==============================] - 1s 2ms/step - loss: 11.3995 - acc: 0.1313 - val_loss: 11.5254 - val_acc: 0.0833\n",
      "Epoch 9/10\n",
      "320/320 [==============================] - 1s 2ms/step - loss: 11.3993 - acc: 0.1156 - val_loss: 11.5285 - val_acc: 0.1250\n",
      "Epoch 10/10\n",
      "320/320 [==============================] - 1s 2ms/step - loss: 11.3981 - acc: 0.1156 - val_loss: 11.5312 - val_acc: 0.0938\n"
     ]
    },
    {
     "data": {
      "text/plain": [
       "<keras.callbacks.History at 0x1ec76cbc780>"
      ]
     },
     "execution_count": 26,
     "metadata": {},
     "output_type": "execute_result"
    }
   ],
   "source": [
    "model.fit(x_train, y_train, epochs = 10, batch_size = batch_size, validation_data=(x_val, y_val))"
   ]
  }
 ],
 "metadata": {
  "kernelspec": {
   "display_name": "Python 3",
   "language": "python",
   "name": "python3"
  },
  "language_info": {
   "codemirror_mode": {
    "name": "ipython",
    "version": 3
   },
   "file_extension": ".py",
   "mimetype": "text/x-python",
   "name": "python",
   "nbconvert_exporter": "python",
   "pygments_lexer": "ipython3",
   "version": "3.5.5"
  }
 },
 "nbformat": 4,
 "nbformat_minor": 2
}
