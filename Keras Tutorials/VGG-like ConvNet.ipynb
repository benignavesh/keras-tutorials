{
 "cells": [
  {
   "cell_type": "code",
   "execution_count": 1,
   "metadata": {},
   "outputs": [
    {
     "name": "stderr",
     "output_type": "stream",
     "text": [
      "Using TensorFlow backend.\n"
     ]
    }
   ],
   "source": [
    "import numpy as np\n",
    "import keras"
   ]
  },
  {
   "cell_type": "code",
   "execution_count": 3,
   "metadata": {},
   "outputs": [],
   "source": [
    "from keras.models import Sequential\n",
    "from keras.layers import Dense, Dropout, Flatten\n",
    "from keras.layers import Conv2D, MaxPooling2D\n",
    "from keras.optimizers import SGD"
   ]
  },
  {
   "cell_type": "code",
   "execution_count": 6,
   "metadata": {},
   "outputs": [],
   "source": [
    "# Generating dummy data\n",
    "x_train = np.random.random((100,100,100,3))\n",
    "y_train = np.random.randint(10, size = (100,1))\n",
    "y_train = keras.utils.to_categorical(y_train, num_classes = 10)\n",
    "x_test = np.random.random((20,100,100,3))\n",
    "y_test = np.random.randint(10, size = (20,1))\n",
    "y_test = keras.utils.to_categorical(y_test, num_classes = 10)"
   ]
  },
  {
   "cell_type": "code",
   "execution_count": 16,
   "metadata": {},
   "outputs": [],
   "source": [
    "model = Sequential()\n",
    "\n",
    "\n",
    "model.add(Conv2D(32, (3,3), activation = 'relu', input_shape = (100,100,3)))\n",
    "model.add(Conv2D(32, (3,3), activation = 'softmax'))\n",
    "model.add(MaxPooling2D(pool_size = (2,2)))\n",
    "model.add(Dropout(0.25))\n",
    "\n",
    "model.add(Conv2D(64, (3,3), activation = 'relu'))\n",
    "model.add(Conv2D(64, (3,3), activation = 'softmax'))\n",
    "model.add(MaxPooling2D(pool_size = (2,2)))\n",
    "model.add(Dropout(0.25))\n",
    "\n",
    "model.add(Flatten())\n",
    "model.add(Dense(256, activation = 'relu'))\n",
    "model.add(Dropout(0.5))\n",
    "model.add(Dense(10, activation = 'softmax'))\n",
    "\n",
    "sgd = SGD(lr = 0.01, decay = 1e-6, momentum = 0.9, nesterov = True)"
   ]
  },
  {
   "cell_type": "code",
   "execution_count": 17,
   "metadata": {},
   "outputs": [],
   "source": [
    "model.compile(loss = 'categorical_crossentropy', optimizer = sgd, metrics = ['accuracy'])"
   ]
  },
  {
   "cell_type": "code",
   "execution_count": 19,
   "metadata": {},
   "outputs": [
    {
     "name": "stdout",
     "output_type": "stream",
     "text": [
      "Epoch 1/10\n",
      "100/100 [==============================] - 2s 18ms/step - loss: 2.3032 - acc: 0.1500\n",
      "Epoch 2/10\n",
      "100/100 [==============================] - 0s 5ms/step - loss: 2.2980 - acc: 0.1500\n",
      "Epoch 3/10\n",
      "100/100 [==============================] - 0s 5ms/step - loss: 2.2865 - acc: 0.1300\n",
      "Epoch 4/10\n",
      "100/100 [==============================] - 0s 5ms/step - loss: 2.2818 - acc: 0.1400\n",
      "Epoch 5/10\n",
      "100/100 [==============================] - 0s 5ms/step - loss: 2.2926 - acc: 0.1200\n",
      "Epoch 6/10\n",
      "100/100 [==============================] - 0s 5ms/step - loss: 2.2769 - acc: 0.1400\n",
      "Epoch 7/10\n",
      "100/100 [==============================] - 0s 5ms/step - loss: 2.2971 - acc: 0.1600\n",
      "Epoch 8/10\n",
      "100/100 [==============================] - 0s 5ms/step - loss: 2.2700 - acc: 0.1600\n",
      "Epoch 9/10\n",
      "100/100 [==============================] - 0s 5ms/step - loss: 2.3073 - acc: 0.1200\n",
      "Epoch 10/10\n",
      "100/100 [==============================] - 0s 5ms/step - loss: 2.2890 - acc: 0.1100\n"
     ]
    },
    {
     "data": {
      "text/plain": [
       "<keras.callbacks.History at 0x1f10a609da0>"
      ]
     },
     "execution_count": 19,
     "metadata": {},
     "output_type": "execute_result"
    }
   ],
   "source": [
    "model.fit(x_train, y_train, epochs = 10, batch_size = 32)"
   ]
  },
  {
   "cell_type": "code",
   "execution_count": 24,
   "metadata": {},
   "outputs": [
    {
     "name": "stdout",
     "output_type": "stream",
     "text": [
      "\r",
      "20/20 [==============================] - 0s 1ms/step\n"
     ]
    }
   ],
   "source": [
    "score = model.evaluate(x_test, y_test, batch_size = 32, verbose = 1)"
   ]
  },
  {
   "cell_type": "code",
   "execution_count": null,
   "metadata": {},
   "outputs": [],
   "source": []
  }
 ],
 "metadata": {
  "kernelspec": {
   "display_name": "Python 3",
   "language": "python",
   "name": "python3"
  },
  "language_info": {
   "codemirror_mode": {
    "name": "ipython",
    "version": 3
   },
   "file_extension": ".py",
   "mimetype": "text/x-python",
   "name": "python",
   "nbconvert_exporter": "python",
   "pygments_lexer": "ipython3",
   "version": "3.5.5"
  }
 },
 "nbformat": 4,
 "nbformat_minor": 2
}
