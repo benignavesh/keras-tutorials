{
 "cells": [
  {
   "cell_type": "code",
   "execution_count": 5,
   "metadata": {},
   "outputs": [],
   "source": [
    "import keras\n",
    "import numpy as np"
   ]
  },
  {
   "cell_type": "code",
   "execution_count": 3,
   "metadata": {},
   "outputs": [],
   "source": [
    "from keras.models import Sequential\n",
    "from keras.layers import Dense, Dropout, Activation"
   ]
  },
  {
   "cell_type": "code",
   "execution_count": 6,
   "metadata": {},
   "outputs": [],
   "source": [
    "# Generating Dummy data\n",
    "x_train = np.random.random((1000,20))\n",
    "y_train = np.random.randint(2, size = (1000,1))\n",
    "x_test = np.random.random((100,20))\n",
    "y_test = np.random.randint(2, size = (100,1))"
   ]
  },
  {
   "cell_type": "code",
   "execution_count": 8,
   "metadata": {},
   "outputs": [],
   "source": [
    "model = Sequential()\n",
    "model.add(Dense(64, input_dim = 20, activation = 'relu'))\n",
    "model.add(Dropout(0.5))\n",
    "model.add(Dense(64, activation = 'relu'))\n",
    "model.add(Dropout(0.5))\n",
    "model.add(Dense(1, activation = 'softmax'))"
   ]
  },
  {
   "cell_type": "code",
   "execution_count": 9,
   "metadata": {},
   "outputs": [],
   "source": [
    "model.compile( loss = 'binary_crossentropy', optimizer = 'rmsprop', metrics = ['accuracy'])"
   ]
  },
  {
   "cell_type": "code",
   "execution_count": 10,
   "metadata": {},
   "outputs": [
    {
     "name": "stdout",
     "output_type": "stream",
     "text": [
      "Epoch 1/10\n",
      "1000/1000 [==============================] - 2s 2ms/step - loss: 7.7958 - acc: 0.5110\n",
      "Epoch 2/10\n",
      "1000/1000 [==============================] - 0s 141us/step - loss: 7.7958 - acc: 0.5110\n",
      "Epoch 3/10\n",
      "1000/1000 [==============================] - 0s 124us/step - loss: 7.7958 - acc: 0.5110\n",
      "Epoch 4/10\n",
      "1000/1000 [==============================] - 0s 118us/step - loss: 7.7958 - acc: 0.5110\n",
      "Epoch 5/10\n",
      "1000/1000 [==============================] - 0s 118us/step - loss: 7.7958 - acc: 0.5110\n",
      "Epoch 6/10\n",
      "1000/1000 [==============================] - 0s 133us/step - loss: 7.7958 - acc: 0.5110\n",
      "Epoch 7/10\n",
      "1000/1000 [==============================] - 0s 142us/step - loss: 7.7958 - acc: 0.5110\n",
      "Epoch 8/10\n",
      "1000/1000 [==============================] - 0s 129us/step - loss: 7.7958 - acc: 0.5110\n",
      "Epoch 9/10\n",
      "1000/1000 [==============================] - 0s 125us/step - loss: 7.7958 - acc: 0.5110\n",
      "Epoch 10/10\n",
      "1000/1000 [==============================] - 0s 115us/step - loss: 7.7958 - acc: 0.5110\n"
     ]
    },
    {
     "data": {
      "text/plain": [
       "<keras.callbacks.History at 0x1d7053b7d68>"
      ]
     },
     "execution_count": 10,
     "metadata": {},
     "output_type": "execute_result"
    }
   ],
   "source": [
    "model.fit(x_train, y_train, epochs = 10, batch_size = 32)"
   ]
  },
  {
   "cell_type": "code",
   "execution_count": 11,
   "metadata": {},
   "outputs": [
    {
     "name": "stdout",
     "output_type": "stream",
     "text": [
      "100/100 [==============================] - 0s 3ms/step\n"
     ]
    }
   ],
   "source": [
    "score = model.evaluate(x_test, y_test, batch_size = 32)"
   ]
  },
  {
   "cell_type": "code",
   "execution_count": 12,
   "metadata": {},
   "outputs": [
    {
     "data": {
      "text/plain": [
       "[9.087159748077392, 0.43]"
      ]
     },
     "execution_count": 12,
     "metadata": {},
     "output_type": "execute_result"
    }
   ],
   "source": [
    "score"
   ]
  },
  {
   "cell_type": "code",
   "execution_count": null,
   "metadata": {},
   "outputs": [],
   "source": []
  }
 ],
 "metadata": {
  "kernelspec": {
   "display_name": "Python 3",
   "language": "python",
   "name": "python3"
  },
  "language_info": {
   "codemirror_mode": {
    "name": "ipython",
    "version": 3
   },
   "file_extension": ".py",
   "mimetype": "text/x-python",
   "name": "python",
   "nbconvert_exporter": "python",
   "pygments_lexer": "ipython3",
   "version": "3.5.5"
  }
 },
 "nbformat": 4,
 "nbformat_minor": 2
}
