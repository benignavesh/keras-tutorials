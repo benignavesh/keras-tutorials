{
 "cells": [
  {
   "cell_type": "markdown",
   "metadata": {},
   "source": [
    "### Specifying the Input Shape"
   ]
  },
  {
   "cell_type": "code",
   "execution_count": 1,
   "metadata": {},
   "outputs": [
    {
     "name": "stderr",
     "output_type": "stream",
     "text": [
      "Using TensorFlow backend.\n"
     ]
    }
   ],
   "source": [
    "import keras"
   ]
  },
  {
   "cell_type": "code",
   "execution_count": 2,
   "metadata": {},
   "outputs": [],
   "source": [
    "import tensorflow as tf"
   ]
  },
  {
   "cell_type": "code",
   "execution_count": 3,
   "metadata": {},
   "outputs": [],
   "source": [
    "from keras.models import Sequential"
   ]
  },
  {
   "cell_type": "code",
   "execution_count": 4,
   "metadata": {},
   "outputs": [],
   "source": [
    "from keras.layers import Dense, Activation"
   ]
  },
  {
   "cell_type": "code",
   "execution_count": 5,
   "metadata": {},
   "outputs": [],
   "source": [
    "model = Sequential([Dense(32, input_shape=(784,)), Activation('relu'), \n",
    "                    Dense(10), Activation('softmax')])"
   ]
  },
  {
   "cell_type": "markdown",
   "metadata": {},
   "source": [
    "The following snippets are strictly equivalent : \n"
   ]
  },
  {
   "cell_type": "code",
   "execution_count": 6,
   "metadata": {},
   "outputs": [],
   "source": [
    "model = Sequential()\n",
    "model.add(Dense(32,input_shape = (784,)))"
   ]
  },
  {
   "cell_type": "code",
   "execution_count": 7,
   "metadata": {},
   "outputs": [],
   "source": [
    "model = Sequential()\n",
    "model.add(Dense(32, input_dim =784))"
   ]
  },
  {
   "cell_type": "markdown",
   "metadata": {},
   "source": [
    "### Compilation"
   ]
  },
  {
   "cell_type": "code",
   "execution_count": 8,
   "metadata": {},
   "outputs": [],
   "source": [
    "#For a multi-class classification problem\n",
    "model.compile(optimizer = 'rmsprop', loss = 'categorical_crossentropy', metrics = ['accuracy'])"
   ]
  },
  {
   "cell_type": "code",
   "execution_count": 9,
   "metadata": {},
   "outputs": [],
   "source": [
    "#For a binary-class classification problem\n",
    "model.compile(optimizer = 'rmsprop', loss = 'binary_crossentropy', metrics = ['accuracy'])"
   ]
  },
  {
   "cell_type": "code",
   "execution_count": 10,
   "metadata": {},
   "outputs": [],
   "source": [
    "#For a mean squared error regression problem\n",
    "model.compile(optimizer = 'rmsprop', loss = 'mse')"
   ]
  },
  {
   "cell_type": "code",
   "execution_count": 11,
   "metadata": {},
   "outputs": [],
   "source": [
    "#For custom metrics\n",
    "import keras.backend as K\n",
    "\n",
    "def mean(y_true, y_pred):\n",
    "    return  K.mean(y_pred)\n",
    "model.compile(optimizer = 'rmsprop', loss = 'binary_crossentropy', metrics = ['accuracy', mean])"
   ]
  },
  {
   "cell_type": "markdown",
   "metadata": {},
   "source": [
    "### Training "
   ]
  },
  {
   "cell_type": "code",
   "execution_count": 12,
   "metadata": {},
   "outputs": [
    {
     "name": "stdout",
     "output_type": "stream",
     "text": [
      "Epoch 1/100\n",
      "1000/1000 [==============================] - 4s 4ms/step - loss: 0.6978 - acc: 0.5080\n",
      "Epoch 2/100\n",
      "1000/1000 [==============================] - 0s 104us/step - loss: 0.6912 - acc: 0.5220\n",
      "Epoch 3/100\n",
      "1000/1000 [==============================] - 0s 101us/step - loss: 0.6885 - acc: 0.5430\n",
      "Epoch 4/100\n",
      "1000/1000 [==============================] - 0s 95us/step - loss: 0.6856 - acc: 0.5430\n",
      "Epoch 5/100\n",
      "1000/1000 [==============================] - 0s 91us/step - loss: 0.6835 - acc: 0.5430\n",
      "Epoch 6/100\n",
      "1000/1000 [==============================] - 0s 88us/step - loss: 0.6812 - acc: 0.5670\n",
      "Epoch 7/100\n",
      "1000/1000 [==============================] - 0s 85us/step - loss: 0.6788 - acc: 0.5680\n",
      "Epoch 8/100\n",
      "1000/1000 [==============================] - 0s 85us/step - loss: 0.6737 - acc: 0.5880\n",
      "Epoch 9/100\n",
      "1000/1000 [==============================] - 0s 86us/step - loss: 0.6743 - acc: 0.5830\n",
      "Epoch 10/100\n",
      "1000/1000 [==============================] - 0s 87us/step - loss: 0.6705 - acc: 0.6050\n",
      "Epoch 11/100\n",
      "1000/1000 [==============================] - 0s 88us/step - loss: 0.6703 - acc: 0.5880\n",
      "Epoch 12/100\n",
      "1000/1000 [==============================] - 0s 86us/step - loss: 0.6669 - acc: 0.5950\n",
      "Epoch 13/100\n",
      "1000/1000 [==============================] - 0s 95us/step - loss: 0.6648 - acc: 0.6020\n",
      "Epoch 14/100\n",
      "1000/1000 [==============================] - 0s 89us/step - loss: 0.6632 - acc: 0.6090\n",
      "Epoch 15/100\n",
      "1000/1000 [==============================] - 0s 87us/step - loss: 0.6579 - acc: 0.6180\n",
      "Epoch 16/100\n",
      "1000/1000 [==============================] - 0s 86us/step - loss: 0.6568 - acc: 0.6270\n",
      "Epoch 17/100\n",
      "1000/1000 [==============================] - 0s 89us/step - loss: 0.6533 - acc: 0.6340\n",
      "Epoch 18/100\n",
      "1000/1000 [==============================] - 0s 85us/step - loss: 0.6526 - acc: 0.6280\n",
      "Epoch 19/100\n",
      "1000/1000 [==============================] - 0s 87us/step - loss: 0.6503 - acc: 0.6490\n",
      "Epoch 20/100\n",
      "1000/1000 [==============================] - 0s 87us/step - loss: 0.6469 - acc: 0.6490\n",
      "Epoch 21/100\n",
      "1000/1000 [==============================] - 0s 87us/step - loss: 0.6419 - acc: 0.6510\n",
      "Epoch 22/100\n",
      "1000/1000 [==============================] - 0s 89us/step - loss: 0.6399 - acc: 0.6610\n",
      "Epoch 23/100\n",
      "1000/1000 [==============================] - 0s 83us/step - loss: 0.6360 - acc: 0.6710\n",
      "Epoch 24/100\n",
      "1000/1000 [==============================] - 0s 95us/step - loss: 0.6332 - acc: 0.6770\n",
      "Epoch 25/100\n",
      "1000/1000 [==============================] - 0s 107us/step - loss: 0.6308 - acc: 0.6830\n",
      "Epoch 26/100\n",
      "1000/1000 [==============================] - 0s 94us/step - loss: 0.6286 - acc: 0.6720\n",
      "Epoch 27/100\n",
      "1000/1000 [==============================] - 0s 84us/step - loss: 0.6229 - acc: 0.6660\n",
      "Epoch 28/100\n",
      "1000/1000 [==============================] - 0s 93us/step - loss: 0.6221 - acc: 0.6820\n",
      "Epoch 29/100\n",
      "1000/1000 [==============================] - 0s 87us/step - loss: 0.6165 - acc: 0.6880\n",
      "Epoch 30/100\n",
      "1000/1000 [==============================] - 0s 91us/step - loss: 0.6160 - acc: 0.6980\n",
      "Epoch 31/100\n",
      "1000/1000 [==============================] - 0s 88us/step - loss: 0.6109 - acc: 0.6910\n",
      "Epoch 32/100\n",
      "1000/1000 [==============================] - 0s 88us/step - loss: 0.6067 - acc: 0.6910\n",
      "Epoch 33/100\n",
      "1000/1000 [==============================] - 0s 89us/step - loss: 0.6043 - acc: 0.7020\n",
      "Epoch 34/100\n",
      "1000/1000 [==============================] - 0s 85us/step - loss: 0.5981 - acc: 0.7000\n",
      "Epoch 35/100\n",
      "1000/1000 [==============================] - 0s 92us/step - loss: 0.5969 - acc: 0.7090\n",
      "Epoch 36/100\n",
      "1000/1000 [==============================] - 0s 96us/step - loss: 0.5929 - acc: 0.7180\n",
      "Epoch 37/100\n",
      "1000/1000 [==============================] - 0s 90us/step - loss: 0.5903 - acc: 0.7120\n",
      "Epoch 38/100\n",
      "1000/1000 [==============================] - 0s 89us/step - loss: 0.5856 - acc: 0.7170\n",
      "Epoch 39/100\n",
      "1000/1000 [==============================] - 0s 101us/step - loss: 0.5814 - acc: 0.7250\n",
      "Epoch 40/100\n",
      "1000/1000 [==============================] - 0s 92us/step - loss: 0.5760 - acc: 0.7270\n",
      "Epoch 41/100\n",
      "1000/1000 [==============================] - 0s 87us/step - loss: 0.5747 - acc: 0.7290\n",
      "Epoch 42/100\n",
      "1000/1000 [==============================] - 0s 85us/step - loss: 0.5683 - acc: 0.7290\n",
      "Epoch 43/100\n",
      "1000/1000 [==============================] - 0s 88us/step - loss: 0.5650 - acc: 0.7440\n",
      "Epoch 44/100\n",
      "1000/1000 [==============================] - 0s 90us/step - loss: 0.5603 - acc: 0.7420\n",
      "Epoch 45/100\n",
      "1000/1000 [==============================] - 0s 90us/step - loss: 0.5567 - acc: 0.7260\n",
      "Epoch 46/100\n",
      "1000/1000 [==============================] - 0s 100us/step - loss: 0.5545 - acc: 0.7410\n",
      "Epoch 47/100\n",
      "1000/1000 [==============================] - 0s 90us/step - loss: 0.5461 - acc: 0.7470\n",
      "Epoch 48/100\n",
      "1000/1000 [==============================] - 0s 87us/step - loss: 0.5443 - acc: 0.7390\n",
      "Epoch 49/100\n",
      "1000/1000 [==============================] - 0s 105us/step - loss: 0.5385 - acc: 0.7740\n",
      "Epoch 50/100\n",
      "1000/1000 [==============================] - 0s 100us/step - loss: 0.5357 - acc: 0.7680\n",
      "Epoch 51/100\n",
      "1000/1000 [==============================] - 0s 94us/step - loss: 0.5299 - acc: 0.7700\n",
      "Epoch 52/100\n",
      "1000/1000 [==============================] - 0s 101us/step - loss: 0.5276 - acc: 0.7820\n",
      "Epoch 53/100\n",
      "1000/1000 [==============================] - 0s 86us/step - loss: 0.5213 - acc: 0.7810\n",
      "Epoch 54/100\n",
      "1000/1000 [==============================] - 0s 100us/step - loss: 0.5158 - acc: 0.7870\n",
      "Epoch 55/100\n",
      "1000/1000 [==============================] - 0s 87us/step - loss: 0.5128 - acc: 0.7880\n",
      "Epoch 56/100\n",
      "1000/1000 [==============================] - 0s 87us/step - loss: 0.5100 - acc: 0.8010\n",
      "Epoch 57/100\n",
      "1000/1000 [==============================] - 0s 93us/step - loss: 0.4991 - acc: 0.8010\n",
      "Epoch 58/100\n",
      "1000/1000 [==============================] - 0s 85us/step - loss: 0.4959 - acc: 0.8130\n",
      "Epoch 59/100\n",
      "1000/1000 [==============================] - 0s 88us/step - loss: 0.4896 - acc: 0.8160\n",
      "Epoch 60/100\n",
      "1000/1000 [==============================] - 0s 86us/step - loss: 0.4928 - acc: 0.8040\n",
      "Epoch 61/100\n",
      "1000/1000 [==============================] - 0s 87us/step - loss: 0.4827 - acc: 0.8140\n",
      "Epoch 62/100\n",
      "1000/1000 [==============================] - 0s 97us/step - loss: 0.4785 - acc: 0.8130\n",
      "Epoch 63/100\n",
      "1000/1000 [==============================] - 0s 139us/step - loss: 0.4772 - acc: 0.8250\n",
      "Epoch 64/100\n",
      "1000/1000 [==============================] - 0s 100us/step - loss: 0.4704 - acc: 0.8170\n",
      "Epoch 65/100\n",
      "1000/1000 [==============================] - 0s 96us/step - loss: 0.4641 - acc: 0.8270\n",
      "Epoch 66/100\n",
      "1000/1000 [==============================] - 0s 100us/step - loss: 0.4599 - acc: 0.8360\n",
      "Epoch 67/100\n",
      "1000/1000 [==============================] - 0s 90us/step - loss: 0.4547 - acc: 0.8390\n",
      "Epoch 68/100\n",
      "1000/1000 [==============================] - 0s 104us/step - loss: 0.4508 - acc: 0.8290\n",
      "Epoch 69/100\n",
      "1000/1000 [==============================] - 0s 100us/step - loss: 0.4471 - acc: 0.8310\n",
      "Epoch 70/100\n",
      "1000/1000 [==============================] - 0s 104us/step - loss: 0.4394 - acc: 0.8470\n",
      "Epoch 71/100\n",
      "1000/1000 [==============================] - 0s 98us/step - loss: 0.4362 - acc: 0.8380\n",
      "Epoch 72/100\n",
      "1000/1000 [==============================] - 0s 94us/step - loss: 0.4287 - acc: 0.8620\n",
      "Epoch 73/100\n",
      "1000/1000 [==============================] - 0s 100us/step - loss: 0.4265 - acc: 0.8530\n",
      "Epoch 74/100\n",
      "1000/1000 [==============================] - 0s 94us/step - loss: 0.4200 - acc: 0.8570\n",
      "Epoch 75/100\n",
      "1000/1000 [==============================] - 0s 102us/step - loss: 0.4131 - acc: 0.8630\n",
      "Epoch 76/100\n",
      "1000/1000 [==============================] - 0s 104us/step - loss: 0.4135 - acc: 0.8620\n",
      "Epoch 77/100\n",
      "1000/1000 [==============================] - 0s 95us/step - loss: 0.4025 - acc: 0.8720\n",
      "Epoch 78/100\n",
      "1000/1000 [==============================] - 0s 97us/step - loss: 0.4001 - acc: 0.8680\n",
      "Epoch 79/100\n",
      "1000/1000 [==============================] - 0s 96us/step - loss: 0.3946 - acc: 0.8800\n",
      "Epoch 80/100\n",
      "1000/1000 [==============================] - 0s 86us/step - loss: 0.3915 - acc: 0.8770\n",
      "Epoch 81/100\n",
      "1000/1000 [==============================] - 0s 97us/step - loss: 0.3875 - acc: 0.8780\n",
      "Epoch 82/100\n"
     ]
    },
    {
     "name": "stdout",
     "output_type": "stream",
     "text": [
      "1000/1000 [==============================] - 0s 99us/step - loss: 0.3779 - acc: 0.8970\n",
      "Epoch 83/100\n",
      "1000/1000 [==============================] - 0s 87us/step - loss: 0.3759 - acc: 0.8870\n",
      "Epoch 84/100\n",
      "1000/1000 [==============================] - 0s 83us/step - loss: 0.3719 - acc: 0.8860\n",
      "Epoch 85/100\n",
      "1000/1000 [==============================] - 0s 79us/step - loss: 0.3714 - acc: 0.9030\n",
      "Epoch 86/100\n",
      "1000/1000 [==============================] - 0s 81us/step - loss: 0.3609 - acc: 0.8990\n",
      "Epoch 87/100\n",
      "1000/1000 [==============================] - 0s 81us/step - loss: 0.3585 - acc: 0.9010\n",
      "Epoch 88/100\n",
      "1000/1000 [==============================] - 0s 83us/step - loss: 0.3527 - acc: 0.9060\n",
      "Epoch 89/100\n",
      "1000/1000 [==============================] - 0s 91us/step - loss: 0.3476 - acc: 0.9030\n",
      "Epoch 90/100\n",
      "1000/1000 [==============================] - 0s 96us/step - loss: 0.3452 - acc: 0.9100\n",
      "Epoch 91/100\n",
      "1000/1000 [==============================] - 0s 86us/step - loss: 0.3429 - acc: 0.9000\n",
      "Epoch 92/100\n",
      "1000/1000 [==============================] - 0s 91us/step - loss: 0.3338 - acc: 0.9220\n",
      "Epoch 93/100\n",
      "1000/1000 [==============================] - 0s 95us/step - loss: 0.3291 - acc: 0.9210\n",
      "Epoch 94/100\n",
      "1000/1000 [==============================] - 0s 89us/step - loss: 0.3295 - acc: 0.9170\n",
      "Epoch 95/100\n",
      "1000/1000 [==============================] - 0s 88us/step - loss: 0.3221 - acc: 0.9160\n",
      "Epoch 96/100\n",
      "1000/1000 [==============================] - 0s 98us/step - loss: 0.3132 - acc: 0.9270\n",
      "Epoch 97/100\n",
      "1000/1000 [==============================] - 0s 98us/step - loss: 0.3141 - acc: 0.9290\n",
      "Epoch 98/100\n",
      "1000/1000 [==============================] - 0s 88us/step - loss: 0.3140 - acc: 0.9270\n",
      "Epoch 99/100\n",
      "1000/1000 [==============================] - 0s 88us/step - loss: 0.3077 - acc: 0.9280\n",
      "Epoch 100/100\n",
      "1000/1000 [==============================] - 0s 118us/step - loss: 0.2955 - acc: 0.9470\n"
     ]
    },
    {
     "data": {
      "text/plain": [
       "<keras.callbacks.History at 0x1ac95165ef0>"
      ]
     },
     "execution_count": 12,
     "metadata": {},
     "output_type": "execute_result"
    }
   ],
   "source": [
    "# For a single-input model with 2 classes ( Binary Classification )\n",
    "model = Sequential()\n",
    "model.add(Dense(32,input_dim = 100, activation = 'relu'))\n",
    "model.add(Dense(1, activation = 'sigmoid' ))\n",
    "model.compile(optimizer = 'rmsprop', loss = 'binary_crossentropy', metrics = ['accuracy'])\n",
    "\n",
    "# Generating dummy data\n",
    "import numpy as np\n",
    "features =  np.random.random((1000,100))\n",
    "labels = np.random.randint(2, size = (1000,1))\n",
    "model.fit(features, labels, epochs = 100, batch_size = 32)"
   ]
  },
  {
   "cell_type": "code",
   "execution_count": 13,
   "metadata": {},
   "outputs": [
    {
     "name": "stdout",
     "output_type": "stream",
     "text": [
      "Epoch 1/10\n",
      "1000/1000 [==============================] - 0s 274us/step - loss: 2.3283 - acc: 0.0840\n",
      "Epoch 2/10\n",
      "1000/1000 [==============================] - 0s 94us/step - loss: 2.3078 - acc: 0.1060\n",
      "Epoch 3/10\n",
      "1000/1000 [==============================] - 0s 93us/step - loss: 2.3002 - acc: 0.1220\n",
      "Epoch 4/10\n",
      "1000/1000 [==============================] - 0s 88us/step - loss: 2.2942 - acc: 0.1050\n",
      "Epoch 5/10\n",
      "1000/1000 [==============================] - 0s 80us/step - loss: 2.2891 - acc: 0.1250\n",
      "Epoch 6/10\n",
      "1000/1000 [==============================] - 0s 84us/step - loss: 2.2819 - acc: 0.1370\n",
      "Epoch 7/10\n",
      "1000/1000 [==============================] - 0s 87us/step - loss: 2.2766 - acc: 0.1290\n",
      "Epoch 8/10\n",
      "1000/1000 [==============================] - 0s 86us/step - loss: 2.2706 - acc: 0.1510\n",
      "Epoch 9/10\n",
      "1000/1000 [==============================] - 0s 83us/step - loss: 2.2634 - acc: 0.1460\n",
      "Epoch 10/10\n",
      "1000/1000 [==============================] - 0s 85us/step - loss: 2.2581 - acc: 0.1400\n"
     ]
    },
    {
     "data": {
      "text/plain": [
       "<keras.callbacks.History at 0x1ac99c9e240>"
      ]
     },
     "execution_count": 13,
     "metadata": {},
     "output_type": "execute_result"
    }
   ],
   "source": [
    "#For a single input model with 10 classes (categorical classification)\n",
    "model = Sequential()\n",
    "model.add(Dense(32, input_dim = 100, activation = 'relu'))\n",
    "model.add(Dense(10, activation = 'sigmoid'))\n",
    "model.compile(optimizer = 'rmsprop', loss = 'categorical_crossentropy', metrics = ['accuracy'])\n",
    "\n",
    "#Generating dummy data\n",
    "import numpy as np\n",
    "features = np.random.random((1000,100))\n",
    "labels = np.random.randint(10, size = (1000,1))\n",
    "# One-hot encoding\n",
    "oh_labels = keras.utils.to_categorical(labels, num_classes = 10)\n",
    "model.fit(features, oh_labels, epochs = 10, batch_size = 32)"
   ]
  }
 ],
 "metadata": {
  "kernelspec": {
   "display_name": "Python 3",
   "language": "python",
   "name": "python3"
  },
  "language_info": {
   "codemirror_mode": {
    "name": "ipython",
    "version": 3
   },
   "file_extension": ".py",
   "mimetype": "text/x-python",
   "name": "python",
   "nbconvert_exporter": "python",
   "pygments_lexer": "ipython3",
   "version": "3.5.5"
  }
 },
 "nbformat": 4,
 "nbformat_minor": 2
}
